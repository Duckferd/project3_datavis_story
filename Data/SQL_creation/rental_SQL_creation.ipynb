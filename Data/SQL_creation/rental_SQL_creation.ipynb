{
 "cells": [
  {
   "cell_type": "code",
   "execution_count": 1,
   "metadata": {},
   "outputs": [],
   "source": [
    "#Import Dependencies\n",
    "import sqlite3\n",
    "import pandas as pd\n",
    "from sqlalchemy import create_engine\n",
    "from pathlib import Path"
   ]
  },
  {
   "cell_type": "code",
   "execution_count": 2,
   "metadata": {},
   "outputs": [],
   "source": [
    "#Establish Database Path and connection\n",
    "database_path = \"../Data/vancouver.sqlite\"\n",
    "Path(database_path).touch() \n",
    "\n",
    "conn = sqlite3.connect(database_path)\n",
    "c = conn.cursor()\n"
   ]
  },
  {
   "cell_type": "code",
   "execution_count": 3,
   "metadata": {},
   "outputs": [
    {
     "data": {
      "text/plain": [
       "208"
      ]
     },
     "execution_count": 3,
     "metadata": {},
     "output_type": "execute_result"
    }
   ],
   "source": [
    "#Create sqlite file\n",
    "\n",
    "csv_rental = pd.read_csv(\"../Data/Rental_data_clean.csv\")\n",
    "\n",
    "csv_rental.to_sql(\"rental\", conn, if_exists='replace', index=True)"
   ]
  },
  {
   "cell_type": "code",
   "execution_count": 4,
   "metadata": {},
   "outputs": [],
   "source": [
    "engine = create_engine(\"sqlite:///vancouver.sqlite\")\n",
    "with engine.connect() as con:\n",
    "    con.execute('PRAGMA foreign_keys=off;')\n",
    "    con.execute('BEGIN TRANSACTION;')\n",
    "    con.execute('ALTER TABLE rental RENAME TO old_table2;')\n",
    "    con.execute('CREATE TABLE rental (id INTEGER, Neighbourhood TEXT, PercentVacancyRate REAL, PercentAvailabilityRate REAL, AverageRentinDollars INTEGER, MedianRentinDollars INTEGER, PercentChange REAL, Units INTEGER, Year INTEGER, CONSTRAINT id_pk PRIMARY KEY (id));')\n",
    "    con.execute('INSERT INTO rental SELECT * FROM old_table2;')\n",
    "    con.execute('DROP TABLE old_table2; ')\n",
    "    con.execute('PRAGMA foreign_keys=on;')"
   ]
  },
  {
   "cell_type": "code",
   "execution_count": 5,
   "metadata": {},
   "outputs": [],
   "source": [
    "#Close the connection\n",
    "conn.close()\n",
    "con.close()"
   ]
  }
 ],
 "metadata": {
  "kernelspec": {
   "display_name": "PythonData",
   "language": "python",
   "name": "pythondata"
  },
  "language_info": {
   "codemirror_mode": {
    "name": "ipython",
    "version": 3
   },
   "file_extension": ".py",
   "mimetype": "text/x-python",
   "name": "python",
   "nbconvert_exporter": "python",
   "pygments_lexer": "ipython3",
   "version": "3.9.13"
  },
  "orig_nbformat": 4
 },
 "nbformat": 4,
 "nbformat_minor": 2
}
